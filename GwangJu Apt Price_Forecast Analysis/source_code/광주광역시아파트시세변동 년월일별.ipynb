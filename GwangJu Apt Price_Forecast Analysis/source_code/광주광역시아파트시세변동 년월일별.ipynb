{
 "cells": [
  {
   "cell_type": "code",
   "execution_count": 97,
   "metadata": {},
   "outputs": [],
   "source": [
    "import warnings\n",
    "warnings.filterwarnings(\"ignore\")\n",
    "import pandas as pd\n",
    "import pandas_datareader.data as web\n",
    "import numpy as np\n",
    "import matplotlib.pyplot as plt\n",
    "%matplotlib inline\n",
    "\n",
    "from fbprophet import Prophet\n",
    "from datetime import datetime"
   ]
  },
  {
   "cell_type": "code",
   "execution_count": 98,
   "metadata": {},
   "outputs": [],
   "source": [
    "path = \"c:/Windows/Fonts/malgun.ttf\"\n",
    "import platform\n",
    "from matplotlib import font_manager, rc\n",
    "if platform.system() == 'Darwin':\n",
    "    rc('font', family='AppleGothic')\n",
    "elif platform.system() == 'Windows':\n",
    "    font_name = font_manager.FontProperties(fname=path).get_name()\n",
    "    rc('font', family=font_name)\n",
    "else:\n",
    "    print('Unknown system... sorry~~~~')    \n",
    "\n",
    "plt.rcParams['axes.unicode_minus'] = False"
   ]
  },
  {
   "cell_type": "code",
   "execution_count": 99,
   "metadata": {},
   "outputs": [
    {
     "data": {
      "text/html": [
       "<div>\n",
       "<style scoped>\n",
       "    .dataframe tbody tr th:only-of-type {\n",
       "        vertical-align: middle;\n",
       "    }\n",
       "\n",
       "    .dataframe tbody tr th {\n",
       "        vertical-align: top;\n",
       "    }\n",
       "\n",
       "    .dataframe thead th {\n",
       "        text-align: right;\n",
       "    }\n",
       "</style>\n",
       "<table border=\"1\" class=\"dataframe\">\n",
       "  <thead>\n",
       "    <tr style=\"text-align: right;\">\n",
       "      <th></th>\n",
       "      <th>시구동단지명</th>\n",
       "      <th>년월일</th>\n",
       "      <th>매매가</th>\n",
       "    </tr>\n",
       "  </thead>\n",
       "  <tbody>\n",
       "    <tr>\n",
       "      <th>1.0</th>\n",
       "      <td>광주광역시 서구 화정동 흥국 64.55</td>\n",
       "      <td>20070515</td>\n",
       "      <td>5100</td>\n",
       "    </tr>\n",
       "    <tr>\n",
       "      <th>NaN</th>\n",
       "      <td>광주광역시 서구 화정동 흥국 64.55</td>\n",
       "      <td>20070618</td>\n",
       "      <td>4700</td>\n",
       "    </tr>\n",
       "    <tr>\n",
       "      <th>NaN</th>\n",
       "      <td>광주광역시 서구 화정동 흥국 64.55</td>\n",
       "      <td>20070710</td>\n",
       "      <td>5100</td>\n",
       "    </tr>\n",
       "    <tr>\n",
       "      <th>NaN</th>\n",
       "      <td>광주광역시 서구 화정동 흥국 64.55</td>\n",
       "      <td>20080218</td>\n",
       "      <td>5100</td>\n",
       "    </tr>\n",
       "    <tr>\n",
       "      <th>NaN</th>\n",
       "      <td>광주광역시 서구 화정동 흥국 64.55</td>\n",
       "      <td>20080527</td>\n",
       "      <td>5000</td>\n",
       "    </tr>\n",
       "  </tbody>\n",
       "</table>\n",
       "</div>"
      ],
      "text/plain": [
       "                    시구동단지명       년월일   매매가\n",
       "1.0  광주광역시 서구 화정동 흥국 64.55  20070515  5100\n",
       "NaN  광주광역시 서구 화정동 흥국 64.55  20070618  4700\n",
       "NaN  광주광역시 서구 화정동 흥국 64.55  20070710  5100\n",
       "NaN  광주광역시 서구 화정동 흥국 64.55  20080218  5100\n",
       "NaN  광주광역시 서구 화정동 흥국 64.55  20080527  5000"
      ]
     },
     "execution_count": 99,
     "metadata": {},
     "output_type": "execute_result"
    }
   ],
   "source": [
    "apt = pd.read_csv('../data/아파트실거래가 년월일.csv', \n",
    "                                          encoding='euc-kr', thousands=',',\n",
    "                                          index_col=0)\n",
    "apt.head()"
   ]
  },
  {
   "cell_type": "code",
   "execution_count": 100,
   "metadata": {},
   "outputs": [
    {
     "data": {
      "text/html": [
       "<div>\n",
       "<style scoped>\n",
       "    .dataframe tbody tr th:only-of-type {\n",
       "        vertical-align: middle;\n",
       "    }\n",
       "\n",
       "    .dataframe tbody tr th {\n",
       "        vertical-align: top;\n",
       "    }\n",
       "\n",
       "    .dataframe thead th {\n",
       "        text-align: right;\n",
       "    }\n",
       "</style>\n",
       "<table border=\"1\" class=\"dataframe\">\n",
       "  <thead>\n",
       "    <tr style=\"text-align: right;\">\n",
       "      <th></th>\n",
       "      <th>시구동단지명</th>\n",
       "      <th>date</th>\n",
       "      <th>hit</th>\n",
       "    </tr>\n",
       "  </thead>\n",
       "  <tbody>\n",
       "    <tr>\n",
       "      <th>1.0</th>\n",
       "      <td>광주광역시 서구 화정동 흥국 64.55</td>\n",
       "      <td>20070515</td>\n",
       "      <td>5100</td>\n",
       "    </tr>\n",
       "    <tr>\n",
       "      <th>NaN</th>\n",
       "      <td>광주광역시 서구 화정동 흥국 64.55</td>\n",
       "      <td>20070618</td>\n",
       "      <td>4700</td>\n",
       "    </tr>\n",
       "    <tr>\n",
       "      <th>NaN</th>\n",
       "      <td>광주광역시 서구 화정동 흥국 64.55</td>\n",
       "      <td>20070710</td>\n",
       "      <td>5100</td>\n",
       "    </tr>\n",
       "    <tr>\n",
       "      <th>NaN</th>\n",
       "      <td>광주광역시 서구 화정동 흥국 64.55</td>\n",
       "      <td>20080218</td>\n",
       "      <td>5100</td>\n",
       "    </tr>\n",
       "    <tr>\n",
       "      <th>NaN</th>\n",
       "      <td>광주광역시 서구 화정동 흥국 64.55</td>\n",
       "      <td>20080527</td>\n",
       "      <td>5000</td>\n",
       "    </tr>\n",
       "  </tbody>\n",
       "</table>\n",
       "</div>"
      ],
      "text/plain": [
       "                    시구동단지명      date   hit\n",
       "1.0  광주광역시 서구 화정동 흥국 64.55  20070515  5100\n",
       "NaN  광주광역시 서구 화정동 흥국 64.55  20070618  4700\n",
       "NaN  광주광역시 서구 화정동 흥국 64.55  20070710  5100\n",
       "NaN  광주광역시 서구 화정동 흥국 64.55  20080218  5100\n",
       "NaN  광주광역시 서구 화정동 흥국 64.55  20080527  5000"
      ]
     },
     "execution_count": 100,
     "metadata": {},
     "output_type": "execute_result"
    }
   ],
   "source": [
    "apt.rename(columns={\"년월일\":\"date\"}, inplace=True)\n",
    "apt.rename(columns={\"매매가\":\"hit\"}, inplace=True)\n",
    "apt.head()"
   ]
  },
  {
   "cell_type": "code",
   "execution_count": 101,
   "metadata": {},
   "outputs": [],
   "source": [
    "df = apt.reset_index()"
   ]
  },
  {
   "cell_type": "code",
   "execution_count": 102,
   "metadata": {},
   "outputs": [
    {
     "data": {
      "text/html": [
       "<div>\n",
       "<style scoped>\n",
       "    .dataframe tbody tr th:only-of-type {\n",
       "        vertical-align: middle;\n",
       "    }\n",
       "\n",
       "    .dataframe tbody tr th {\n",
       "        vertical-align: top;\n",
       "    }\n",
       "\n",
       "    .dataframe thead th {\n",
       "        text-align: right;\n",
       "    }\n",
       "</style>\n",
       "<table border=\"1\" class=\"dataframe\">\n",
       "  <thead>\n",
       "    <tr style=\"text-align: right;\">\n",
       "      <th></th>\n",
       "      <th>index</th>\n",
       "      <th>시구동단지명</th>\n",
       "      <th>date</th>\n",
       "      <th>hit</th>\n",
       "    </tr>\n",
       "  </thead>\n",
       "  <tbody>\n",
       "    <tr>\n",
       "      <th>0</th>\n",
       "      <td>1.0</td>\n",
       "      <td>광주광역시 서구 화정동 흥국 64.55</td>\n",
       "      <td>20070515</td>\n",
       "      <td>5100</td>\n",
       "    </tr>\n",
       "    <tr>\n",
       "      <th>1</th>\n",
       "      <td>NaN</td>\n",
       "      <td>광주광역시 서구 화정동 흥국 64.55</td>\n",
       "      <td>20070618</td>\n",
       "      <td>4700</td>\n",
       "    </tr>\n",
       "    <tr>\n",
       "      <th>2</th>\n",
       "      <td>NaN</td>\n",
       "      <td>광주광역시 서구 화정동 흥국 64.55</td>\n",
       "      <td>20070710</td>\n",
       "      <td>5100</td>\n",
       "    </tr>\n",
       "    <tr>\n",
       "      <th>3</th>\n",
       "      <td>NaN</td>\n",
       "      <td>광주광역시 서구 화정동 흥국 64.55</td>\n",
       "      <td>20080218</td>\n",
       "      <td>5100</td>\n",
       "    </tr>\n",
       "    <tr>\n",
       "      <th>4</th>\n",
       "      <td>NaN</td>\n",
       "      <td>광주광역시 서구 화정동 흥국 64.55</td>\n",
       "      <td>20080527</td>\n",
       "      <td>5000</td>\n",
       "    </tr>\n",
       "  </tbody>\n",
       "</table>\n",
       "</div>"
      ],
      "text/plain": [
       "   index                 시구동단지명      date   hit\n",
       "0    1.0  광주광역시 서구 화정동 흥국 64.55  20070515  5100\n",
       "1    NaN  광주광역시 서구 화정동 흥국 64.55  20070618  4700\n",
       "2    NaN  광주광역시 서구 화정동 흥국 64.55  20070710  5100\n",
       "3    NaN  광주광역시 서구 화정동 흥국 64.55  20080218  5100\n",
       "4    NaN  광주광역시 서구 화정동 흥국 64.55  20080527  5000"
      ]
     },
     "execution_count": 102,
     "metadata": {},
     "output_type": "execute_result"
    }
   ],
   "source": [
    "df.head()"
   ]
  },
  {
   "cell_type": "code",
   "execution_count": 103,
   "metadata": {},
   "outputs": [],
   "source": [
    "df = apt.loc[apt[\"시구동단지명\"]==\"광주광역시 북구 용봉동 삼성 133.35\",[\"시구동단지명\",\"date\",\"hit\"]]"
   ]
  },
  {
   "cell_type": "code",
   "execution_count": 104,
   "metadata": {},
   "outputs": [
    {
     "data": {
      "text/html": [
       "<div>\n",
       "<style scoped>\n",
       "    .dataframe tbody tr th:only-of-type {\n",
       "        vertical-align: middle;\n",
       "    }\n",
       "\n",
       "    .dataframe tbody tr th {\n",
       "        vertical-align: top;\n",
       "    }\n",
       "\n",
       "    .dataframe thead th {\n",
       "        text-align: right;\n",
       "    }\n",
       "</style>\n",
       "<table border=\"1\" class=\"dataframe\">\n",
       "  <thead>\n",
       "    <tr style=\"text-align: right;\">\n",
       "      <th></th>\n",
       "      <th>시구동단지명</th>\n",
       "      <th>ds</th>\n",
       "      <th>y</th>\n",
       "    </tr>\n",
       "  </thead>\n",
       "  <tbody>\n",
       "    <tr>\n",
       "      <th>NaN</th>\n",
       "      <td>광주광역시 북구 용봉동 삼성 133.35</td>\n",
       "      <td>20061201</td>\n",
       "      <td>14400</td>\n",
       "    </tr>\n",
       "    <tr>\n",
       "      <th>NaN</th>\n",
       "      <td>광주광역시 북구 용봉동 삼성 133.35</td>\n",
       "      <td>20061204</td>\n",
       "      <td>13000</td>\n",
       "    </tr>\n",
       "    <tr>\n",
       "      <th>NaN</th>\n",
       "      <td>광주광역시 북구 용봉동 삼성 133.35</td>\n",
       "      <td>20070104</td>\n",
       "      <td>14250</td>\n",
       "    </tr>\n",
       "    <tr>\n",
       "      <th>NaN</th>\n",
       "      <td>광주광역시 북구 용봉동 삼성 133.35</td>\n",
       "      <td>20070205</td>\n",
       "      <td>14000</td>\n",
       "    </tr>\n",
       "    <tr>\n",
       "      <th>NaN</th>\n",
       "      <td>광주광역시 북구 용봉동 삼성 133.35</td>\n",
       "      <td>20070501</td>\n",
       "      <td>15700</td>\n",
       "    </tr>\n",
       "  </tbody>\n",
       "</table>\n",
       "</div>"
      ],
      "text/plain": [
       "                     시구동단지명        ds      y\n",
       "NaN  광주광역시 북구 용봉동 삼성 133.35  20061201  14400\n",
       "NaN  광주광역시 북구 용봉동 삼성 133.35  20061204  13000\n",
       "NaN  광주광역시 북구 용봉동 삼성 133.35  20070104  14250\n",
       "NaN  광주광역시 북구 용봉동 삼성 133.35  20070205  14000\n",
       "NaN  광주광역시 북구 용봉동 삼성 133.35  20070501  15700"
      ]
     },
     "execution_count": 104,
     "metadata": {},
     "output_type": "execute_result"
    }
   ],
   "source": [
    "df=df.rename(columns={'date':'ds', 'hit':'y'})\n",
    "df.head()"
   ]
  },
  {
   "cell_type": "code",
   "execution_count": 105,
   "metadata": {},
   "outputs": [
    {
     "data": {
      "text/plain": [
       "<matplotlib.axes._subplots.AxesSubplot at 0x159c188ff28>"
      ]
     },
     "execution_count": 105,
     "metadata": {},
     "output_type": "execute_result"
    },
    {
     "data": {
      "image/png": "[encoded data removed]",
      "text/plain": [
       "<Figure size 432x288 with 1 Axes>"
      ]
     },
     "metadata": {
      "needs_background": "light"
     },
     "output_type": "display_data"
    }
   ],
   "source": [
    "df.set_index('ds').y.plot()"
   ]
  },
  {
   "cell_type": "code",
   "execution_count": 137,
   "metadata": {},
   "outputs": [
    {
     "data": {
      "text/plain": [
       "<fbprophet.forecaster.Prophet at 0x159bbd71710>"
      ]
     },
     "execution_count": 137,
     "metadata": {},
     "output_type": "execute_result"
    }
   ],
   "source": [
    "model = Prophet(yearly_seasonality =True,weekly_seasonality=False,daily_seasonality=True )\n",
    "model.fit(df)"
   ]
  },
  {
   "cell_type": "code",
   "execution_count": 138,
   "metadata": {},
   "outputs": [
    {
     "data": {
      "text/html": [
       "<div>\n",
       "<style scoped>\n",
       "    .dataframe tbody tr th:only-of-type {\n",
       "        vertical-align: middle;\n",
       "    }\n",
       "\n",
       "    .dataframe tbody tr th {\n",
       "        vertical-align: top;\n",
       "    }\n",
       "\n",
       "    .dataframe thead th {\n",
       "        text-align: right;\n",
       "    }\n",
       "</style>\n",
       "<table border=\"1\" class=\"dataframe\">\n",
       "  <thead>\n",
       "    <tr style=\"text-align: right;\">\n",
       "      <th></th>\n",
       "      <th>ds</th>\n",
       "    </tr>\n",
       "  </thead>\n",
       "  <tbody>\n",
       "    <tr>\n",
       "      <th>765</th>\n",
       "      <td>2022-02-28 00:00:00.020191018</td>\n",
       "    </tr>\n",
       "    <tr>\n",
       "      <th>766</th>\n",
       "      <td>2022-03-31 00:00:00.020191018</td>\n",
       "    </tr>\n",
       "    <tr>\n",
       "      <th>767</th>\n",
       "      <td>2022-04-30 00:00:00.020191018</td>\n",
       "    </tr>\n",
       "    <tr>\n",
       "      <th>768</th>\n",
       "      <td>2022-05-31 00:00:00.020191018</td>\n",
       "    </tr>\n",
       "    <tr>\n",
       "      <th>769</th>\n",
       "      <td>2022-06-30 00:00:00.020191018</td>\n",
       "    </tr>\n",
       "  </tbody>\n",
       "</table>\n",
       "</div>"
      ],
      "text/plain": [
       "                               ds\n",
       "765 2022-02-28 00:00:00.020191018\n",
       "766 2022-03-31 00:00:00.020191018\n",
       "767 2022-04-30 00:00:00.020191018\n",
       "768 2022-05-31 00:00:00.020191018\n",
       "769 2022-06-30 00:00:00.020191018"
      ]
     },
     "execution_count": 138,
     "metadata": {},
     "output_type": "execute_result"
    }
   ],
   "source": [
    "future = model.make_future_dataframe(periods=630,freq = 'm')\n",
    "future.tail()"
   ]
  },
  {
   "cell_type": "code",
   "execution_count": 139,
   "metadata": {},
   "outputs": [],
   "source": [
    "forecast = model.predict(future)"
   ]
  },
  {
   "cell_type": "code",
   "execution_count": 140,
   "metadata": {},
   "outputs": [
    {
     "data": {
      "text/html": [
       "<div>\n",
       "<style scoped>\n",
       "    .dataframe tbody tr th:only-of-type {\n",
       "        vertical-align: middle;\n",
       "    }\n",
       "\n",
       "    .dataframe tbody tr th {\n",
       "        vertical-align: top;\n",
       "    }\n",
       "\n",
       "    .dataframe thead th {\n",
       "        text-align: right;\n",
       "    }\n",
       "</style>\n",
       "<table border=\"1\" class=\"dataframe\">\n",
       "  <thead>\n",
       "    <tr style=\"text-align: right;\">\n",
       "      <th></th>\n",
       "      <th>ds</th>\n",
       "      <th>trend</th>\n",
       "      <th>yhat_lower</th>\n",
       "      <th>yhat_upper</th>\n",
       "      <th>trend_lower</th>\n",
       "      <th>trend_upper</th>\n",
       "      <th>additive_terms</th>\n",
       "      <th>additive_terms_lower</th>\n",
       "      <th>additive_terms_upper</th>\n",
       "      <th>daily</th>\n",
       "      <th>daily_lower</th>\n",
       "      <th>daily_upper</th>\n",
       "      <th>yearly</th>\n",
       "      <th>yearly_lower</th>\n",
       "      <th>yearly_upper</th>\n",
       "      <th>multiplicative_terms</th>\n",
       "      <th>multiplicative_terms_lower</th>\n",
       "      <th>multiplicative_terms_upper</th>\n",
       "      <th>yhat</th>\n",
       "    </tr>\n",
       "  </thead>\n",
       "  <tbody>\n",
       "    <tr>\n",
       "      <th>765</th>\n",
       "      <td>2022-02-28 00:00:00.020191018</td>\n",
       "      <td>27751.688267</td>\n",
       "      <td>25103.747988</td>\n",
       "      <td>28568.732219</td>\n",
       "      <td>27425.169273</td>\n",
       "      <td>28088.568069</td>\n",
       "      <td>-925.469419</td>\n",
       "      <td>-925.469419</td>\n",
       "      <td>-925.469419</td>\n",
       "      <td>-1209.82112</td>\n",
       "      <td>-1209.82112</td>\n",
       "      <td>-1209.82112</td>\n",
       "      <td>284.351701</td>\n",
       "      <td>284.351701</td>\n",
       "      <td>284.351701</td>\n",
       "      <td>0.0</td>\n",
       "      <td>0.0</td>\n",
       "      <td>0.0</td>\n",
       "      <td>26826.218848</td>\n",
       "    </tr>\n",
       "    <tr>\n",
       "      <th>766</th>\n",
       "      <td>2022-03-31 00:00:00.020191018</td>\n",
       "      <td>27814.591296</td>\n",
       "      <td>24739.065741</td>\n",
       "      <td>27901.672528</td>\n",
       "      <td>27466.630539</td>\n",
       "      <td>28165.728739</td>\n",
       "      <td>-1508.591210</td>\n",
       "      <td>-1508.591210</td>\n",
       "      <td>-1508.591210</td>\n",
       "      <td>-1209.82112</td>\n",
       "      <td>-1209.82112</td>\n",
       "      <td>-1209.82112</td>\n",
       "      <td>-298.770090</td>\n",
       "      <td>-298.770090</td>\n",
       "      <td>-298.770090</td>\n",
       "      <td>0.0</td>\n",
       "      <td>0.0</td>\n",
       "      <td>0.0</td>\n",
       "      <td>26306.000086</td>\n",
       "    </tr>\n",
       "    <tr>\n",
       "      <th>767</th>\n",
       "      <td>2022-04-30 00:00:00.020191018</td>\n",
       "      <td>27875.465195</td>\n",
       "      <td>25533.110757</td>\n",
       "      <td>28732.316437</td>\n",
       "      <td>27512.020172</td>\n",
       "      <td>28252.126933</td>\n",
       "      <td>-707.797789</td>\n",
       "      <td>-707.797789</td>\n",
       "      <td>-707.797789</td>\n",
       "      <td>-1209.82112</td>\n",
       "      <td>-1209.82112</td>\n",
       "      <td>-1209.82112</td>\n",
       "      <td>502.023331</td>\n",
       "      <td>502.023331</td>\n",
       "      <td>502.023331</td>\n",
       "      <td>0.0</td>\n",
       "      <td>0.0</td>\n",
       "      <td>0.0</td>\n",
       "      <td>27167.667406</td>\n",
       "    </tr>\n",
       "    <tr>\n",
       "      <th>768</th>\n",
       "      <td>2022-05-31 00:00:00.020191018</td>\n",
       "      <td>27938.368224</td>\n",
       "      <td>25645.125033</td>\n",
       "      <td>28756.549106</td>\n",
       "      <td>27554.875895</td>\n",
       "      <td>28338.638246</td>\n",
       "      <td>-667.233545</td>\n",
       "      <td>-667.233545</td>\n",
       "      <td>-667.233545</td>\n",
       "      <td>-1209.82112</td>\n",
       "      <td>-1209.82112</td>\n",
       "      <td>-1209.82112</td>\n",
       "      <td>542.587576</td>\n",
       "      <td>542.587576</td>\n",
       "      <td>542.587576</td>\n",
       "      <td>0.0</td>\n",
       "      <td>0.0</td>\n",
       "      <td>0.0</td>\n",
       "      <td>27271.134680</td>\n",
       "    </tr>\n",
       "    <tr>\n",
       "      <th>769</th>\n",
       "      <td>2022-06-30 00:00:00.020191018</td>\n",
       "      <td>27999.242123</td>\n",
       "      <td>23983.183325</td>\n",
       "      <td>27149.703760</td>\n",
       "      <td>27599.010083</td>\n",
       "      <td>28426.386570</td>\n",
       "      <td>-2383.880513</td>\n",
       "      <td>-2383.880513</td>\n",
       "      <td>-2383.880513</td>\n",
       "      <td>-1209.82112</td>\n",
       "      <td>-1209.82112</td>\n",
       "      <td>-1209.82112</td>\n",
       "      <td>-1174.059393</td>\n",
       "      <td>-1174.059393</td>\n",
       "      <td>-1174.059393</td>\n",
       "      <td>0.0</td>\n",
       "      <td>0.0</td>\n",
       "      <td>0.0</td>\n",
       "      <td>25615.361610</td>\n",
       "    </tr>\n",
       "  </tbody>\n",
       "</table>\n",
       "</div>"
      ],
      "text/plain": [
       "                               ds         trend    yhat_lower    yhat_upper  \\\n",
       "765 2022-02-28 00:00:00.020191018  27751.688267  25103.747988  28568.732219   \n",
       "766 2022-03-31 00:00:00.020191018  27814.591296  24739.065741  27901.672528   \n",
       "767 2022-04-30 00:00:00.020191018  27875.465195  25533.110757  28732.316437   \n",
       "768 2022-05-31 00:00:00.020191018  27938.368224  25645.125033  28756.549106   \n",
       "769 2022-06-30 00:00:00.020191018  27999.242123  23983.183325  27149.703760   \n",
       "\n",
       "      trend_lower   trend_upper  additive_terms  additive_terms_lower  \\\n",
       "765  27425.169273  28088.568069     -925.469419           -925.469419   \n",
       "766  27466.630539  28165.728739    -1508.591210          -1508.591210   \n",
       "767  27512.020172  28252.126933     -707.797789           -707.797789   \n",
       "768  27554.875895  28338.638246     -667.233545           -667.233545   \n",
       "769  27599.010083  28426.386570    -2383.880513          -2383.880513   \n",
       "\n",
       "     additive_terms_upper       daily  daily_lower  daily_upper       yearly  \\\n",
       "765           -925.469419 -1209.82112  -1209.82112  -1209.82112   284.351701   \n",
       "766          -1508.591210 -1209.82112  -1209.82112  -1209.82112  -298.770090   \n",
       "767           -707.797789 -1209.82112  -1209.82112  -1209.82112   502.023331   \n",
       "768           -667.233545 -1209.82112  -1209.82112  -1209.82112   542.587576   \n",
       "769          -2383.880513 -1209.82112  -1209.82112  -1209.82112 -1174.059393   \n",
       "\n",
       "     yearly_lower  yearly_upper  multiplicative_terms  \\\n",
       "765    284.351701    284.351701                   0.0   \n",
       "766   -298.770090   -298.770090                   0.0   \n",
       "767    502.023331    502.023331                   0.0   \n",
       "768    542.587576    542.587576                   0.0   \n",
       "769  -1174.059393  -1174.059393                   0.0   \n",
       "\n",
       "     multiplicative_terms_lower  multiplicative_terms_upper          yhat  \n",
       "765                         0.0                         0.0  26826.218848  \n",
       "766                         0.0                         0.0  26306.000086  \n",
       "767                         0.0                         0.0  27167.667406  \n",
       "768                         0.0                         0.0  27271.134680  \n",
       "769                         0.0                         0.0  25615.361610  "
      ]
     },
     "execution_count": 140,
     "metadata": {},
     "output_type": "execute_result"
    }
   ],
   "source": [
    "forecast.tail()"
   ]
  },
  {
   "cell_type": "code",
   "execution_count": 141,
   "metadata": {},
   "outputs": [
    {
     "data": {
      "text/html": [
       "<div>\n",
       "<style scoped>\n",
       "    .dataframe tbody tr th:only-of-type {\n",
       "        vertical-align: middle;\n",
       "    }\n",
       "\n",
       "    .dataframe tbody tr th {\n",
       "        vertical-align: top;\n",
       "    }\n",
       "\n",
       "    .dataframe thead th {\n",
       "        text-align: right;\n",
       "    }\n",
       "</style>\n",
       "<table border=\"1\" class=\"dataframe\">\n",
       "  <thead>\n",
       "    <tr style=\"text-align: right;\">\n",
       "      <th></th>\n",
       "      <th>ds</th>\n",
       "      <th>yhat</th>\n",
       "      <th>yhat_lower</th>\n",
       "      <th>yhat_upper</th>\n",
       "    </tr>\n",
       "  </thead>\n",
       "  <tbody>\n",
       "    <tr>\n",
       "      <th>765</th>\n",
       "      <td>2022-02-28 00:00:00.020191018</td>\n",
       "      <td>26826.218848</td>\n",
       "      <td>25103.747988</td>\n",
       "      <td>28568.732219</td>\n",
       "    </tr>\n",
       "    <tr>\n",
       "      <th>766</th>\n",
       "      <td>2022-03-31 00:00:00.020191018</td>\n",
       "      <td>26306.000086</td>\n",
       "      <td>24739.065741</td>\n",
       "      <td>27901.672528</td>\n",
       "    </tr>\n",
       "    <tr>\n",
       "      <th>767</th>\n",
       "      <td>2022-04-30 00:00:00.020191018</td>\n",
       "      <td>27167.667406</td>\n",
       "      <td>25533.110757</td>\n",
       "      <td>28732.316437</td>\n",
       "    </tr>\n",
       "    <tr>\n",
       "      <th>768</th>\n",
       "      <td>2022-05-31 00:00:00.020191018</td>\n",
       "      <td>27271.134680</td>\n",
       "      <td>25645.125033</td>\n",
       "      <td>28756.549106</td>\n",
       "    </tr>\n",
       "    <tr>\n",
       "      <th>769</th>\n",
       "      <td>2022-06-30 00:00:00.020191018</td>\n",
       "      <td>25615.361610</td>\n",
       "      <td>23983.183325</td>\n",
       "      <td>27149.703760</td>\n",
       "    </tr>\n",
       "  </tbody>\n",
       "</table>\n",
       "</div>"
      ],
      "text/plain": [
       "                               ds          yhat    yhat_lower    yhat_upper\n",
       "765 2022-02-28 00:00:00.020191018  26826.218848  25103.747988  28568.732219\n",
       "766 2022-03-31 00:00:00.020191018  26306.000086  24739.065741  27901.672528\n",
       "767 2022-04-30 00:00:00.020191018  27167.667406  25533.110757  28732.316437\n",
       "768 2022-05-31 00:00:00.020191018  27271.134680  25645.125033  28756.549106\n",
       "769 2022-06-30 00:00:00.020191018  25615.361610  23983.183325  27149.703760"
      ]
     },
     "execution_count": 141,
     "metadata": {},
     "output_type": "execute_result"
    }
   ],
   "source": [
    "forecast[['ds', 'yhat', 'yhat_lower', 'yhat_upper']].tail()"
   ]
  },
  {
   "cell_type": "code",
   "execution_count": 142,
   "metadata": {},
   "outputs": [
    {
     "data": {
      "image/png": "[encoded data removed]",
      "text/plain": [
       "<Figure size 720x432 with 1 Axes>"
      ]
     },
     "metadata": {},
     "output_type": "display_data"
    }
   ],
   "source": [
    "model.plot(forecast[580:769]);"
   ]
  },
  {
   "cell_type": "code",
   "execution_count": null,
   "metadata": {},
   "outputs": [],
   "source": []
  }
 ],
 "metadata": {
  "kernelspec": {
   "display_name": "Python 3",
   "language": "python",
   "name": "python3"
  },
  "language_info": {
   "codemirror_mode": {
    "name": "ipython",
    "version": 3
   },
   "file_extension": ".py",
   "mimetype": "text/x-python",
   "name": "python",
   "nbconvert_exporter": "python",
   "pygments_lexer": "ipython3",
   "version": "3.7.3"
  }
 },
 "nbformat": 4,
 "nbformat_minor": 2
}
